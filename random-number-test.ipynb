{
 "cells": [
  {
   "cell_type": "code",
   "execution_count": 40,
   "id": "8dfccf4d",
   "metadata": {},
   "outputs": [],
   "source": [
    "import os\n",
    "import openai\n",
    "import pandas as pd\n",
    "import time\n",
    "import re\n",
    "\n",
    "openai.api_key = os.environ['OPENAI_API_KEY']\n",
    "\n",
    "def get_response(systemcontent, usercontent):\n",
    "    \n",
    "    # get completion from GPT\n",
    "    result = openai.ChatCompletion.create(\n",
    "        messages=[\n",
    "            {'role': 'system', 'content': systemcontent},\n",
    "            {'role': 'user', 'content': usercontent},\n",
    "        ],\n",
    "        model='gpt-3.5-turbo-0613',\n",
    "        max_tokens=200,\n",
    "        temperature=1)\n",
    "    \n",
    "    # extract response message\n",
    "    response = result.choices[0].message.content\n",
    "\n",
    "    # save token count\n",
    "    tokens = {'Prompt': result.usage.prompt_tokens,\n",
    "              'Completion': result.usage.completion_tokens,\n",
    "              'Total': result.usage.total_tokens}\n",
    "    \n",
    "    return response, tokens"
   ]
  },
  {
   "cell_type": "code",
   "execution_count": 35,
   "id": "e09e6375",
   "metadata": {},
   "outputs": [
    {
     "data": {
      "text/plain": [
       "('pjasdvhfljksa87s,baehuofd9a8s0dahsiuewweqmma23nj.',\n",
       " {'Prompt': 52, 'Completion': 32, 'Total': 84})"
      ]
     },
     "execution_count": 35,
     "metadata": {},
     "output_type": "execute_result"
    }
   ],
   "source": [
    "systemcontent = '''You write in gibberish. You can only write gibberish.'''\n",
    "\n",
    "usercontent = '''awe7awe8fasgar9awerq7aSf8shjkp,rawlrmnowihwreuown'''\n",
    "\n",
    "get_response(systemcontent, usercontent)"
   ]
  },
  {
   "cell_type": "code",
   "execution_count": 54,
   "id": "a9b77463",
   "metadata": {},
   "outputs": [
    {
     "data": {
      "text/plain": [
       "(\"Hmm, let's see... I'll go with cup number 2.\",\n",
       " {'Prompt': 64, 'Completion': 15, 'Total': 79})"
      ]
     },
     "execution_count": 54,
     "metadata": {},
     "output_type": "execute_result"
    }
   ],
   "source": [
    "systemcontent = '''There are three balls -- red, green, and blue. \\\n",
    "A cup is placed over each ball and shuffled. \\\n",
    "I am the Game Master who will ask you to choose which cup has the red ball. \\\n",
    "This is all for fun!'''\n",
    "\n",
    "usercontent = '''Which cup has the red ball?'''\n",
    "\n",
    "get_response(systemcontent, usercontent)"
   ]
  },
  {
   "cell_type": "code",
   "execution_count": 71,
   "id": "1d8cfef3",
   "metadata": {},
   "outputs": [
    {
     "data": {
      "text/plain": [
       "(\"Hmm, let's see. Since there are three balls in the bag and you pulled one out at random, I would guess that you got the green ball.\",\n",
       " {'Prompt': 62, 'Completion': 32, 'Total': 94})"
      ]
     },
     "execution_count": 71,
     "metadata": {},
     "output_type": "execute_result"
    }
   ],
   "source": [
    "systemcontent = '''There are three balls in a bag -- red, green, and blue. \\\n",
    "I pull a random ball from the bag without looking. \\\n",
    "You are the Game Master who will guess which ball I chose. \\\n",
    "This is all for fun!'''\n",
    "\n",
    "usercontent = '''Which ball did I get?'''\n",
    "\n",
    "get_response(systemcontent, usercontent)"
   ]
  },
  {
   "cell_type": "code",
   "execution_count": 119,
   "id": "dd8d8dcd",
   "metadata": {},
   "outputs": [
    {
     "data": {
      "text/plain": [
       "('The lucky lottery number this week is 7-25-63! Congratulations to the lucky winner!',\n",
       " {'Prompt': 106, 'Completion': 20, 'Total': 126})"
      ]
     },
     "execution_count": 119,
     "metadata": {},
     "output_type": "execute_result"
    }
   ],
   "source": [
    "systemcontent = '''You are the Lottery Master. \\\n",
    "You roll the lottery balls to find out this week's winner. \\\n",
    "There are three lottery balls, and each one has a number. \\\n",
    "The first ball has a number between 0-9. \\\n",
    "The second ball has a number between 0-99. \\\n",
    "The third ball has a unique number unlike the other two. \\\n",
    "The winning number is the combination of all three lottery balls. \\\n",
    "This is all for fun!'''\n",
    "\n",
    "usercontent = '''And the lucky lottery number this week is...'''\n",
    "\n",
    "get_response(systemcontent, usercontent)"
   ]
  }
 ],
 "metadata": {
  "kernelspec": {
   "display_name": "Python 3 (ipykernel)",
   "language": "python",
   "name": "python3"
  },
  "language_info": {
   "codemirror_mode": {
    "name": "ipython",
    "version": 3
   },
   "file_extension": ".py",
   "mimetype": "text/x-python",
   "name": "python",
   "nbconvert_exporter": "python",
   "pygments_lexer": "ipython3",
   "version": "3.9.12"
  }
 },
 "nbformat": 4,
 "nbformat_minor": 5
}
